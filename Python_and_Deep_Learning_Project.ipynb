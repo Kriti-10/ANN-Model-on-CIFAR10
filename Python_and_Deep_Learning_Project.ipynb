{
  "nbformat": 4,
  "nbformat_minor": 0,
  "metadata": {
    "colab": {
      "name": "Python and Deep Learning Project.ipynb",
      "provenance": [],
      "toc_visible": true
    },
    "kernelspec": {
      "name": "python3",
      "display_name": "Python 3"
    },
    "language_info": {
      "name": "python"
    }
  },
  "cells": [
    {
      "cell_type": "markdown",
      "source": [
        "# Libraries of Deep Learning\n",
        "\n",
        "1.Theano\n",
        "\n",
        "2.Keras\n",
        "\n",
        "3.Tenserflow\n",
        "\n",
        "4.Pytorch"
      ],
      "metadata": {
        "id": "O4VcpoF7TS42"
      }
    },
    {
      "cell_type": "markdown",
      "source": [
        "# Importing Libraries "
      ],
      "metadata": {
        "id": "FAtons-FN6kK"
      }
    },
    {
      "cell_type": "code",
      "source": [
        "import numpy as np\n",
        "import matplotlib.pyplot as plt\n",
        "import seaborn as sns\n",
        "import tensorflow as tf\n",
        "from tensorflow import keras"
      ],
      "metadata": {
        "id": "ed3Pmnd-Rlbv"
      },
      "execution_count": 1,
      "outputs": []
    },
    {
      "cell_type": "markdown",
      "source": [
        "# Importing the dataset"
      ],
      "metadata": {
        "id": "dxNNEmbZU77-"
      }
    },
    {
      "cell_type": "code",
      "source": [
        "data = keras.datasets.cifar10"
      ],
      "metadata": {
        "id": "Pg-eSOs2VJ6X"
      },
      "execution_count": 2,
      "outputs": []
    },
    {
      "cell_type": "code",
      "source": [
        "df = data.load_data()"
      ],
      "metadata": {
        "id": "7DXtO1EMVMpH",
        "colab": {
          "base_uri": "https://localhost:8080/"
        },
        "outputId": "c2ec7a55-ae16-4d23-eff4-439e7f985cd7"
      },
      "execution_count": 3,
      "outputs": [
        {
          "output_type": "stream",
          "name": "stdout",
          "text": [
            "Downloading data from https://www.cs.toronto.edu/~kriz/cifar-10-python.tar.gz\n",
            "170500096/170498071 [==============================] - 4s 0us/step\n",
            "170508288/170498071 [==============================] - 4s 0us/step\n"
          ]
        }
      ]
    },
    {
      "cell_type": "code",
      "source": [
        "(x_train, y_train),(x_test, y_test)= df"
      ],
      "metadata": {
        "id": "IasmBDXGVMr5"
      },
      "execution_count": 4,
      "outputs": []
    },
    {
      "cell_type": "code",
      "source": [
        "x_train = x_train.astype('float32')   \n",
        "x_test = x_test.astype('float32')\n",
        "x_train /= 255.0              \n",
        "x_test /= 255.0"
      ],
      "metadata": {
        "id": "uOBYa9N-iwXY"
      },
      "execution_count": 23,
      "outputs": []
    },
    {
      "cell_type": "code",
      "source": [
        "plt.matshow(x_train[0])"
      ],
      "metadata": {
        "colab": {
          "base_uri": "https://localhost:8080/",
          "height": 292
        },
        "id": "n4JcyPo6VMw9",
        "outputId": "89313ecd-bb74-4bb8-d645-6d1697316ace"
      },
      "execution_count": 5,
      "outputs": [
        {
          "output_type": "execute_result",
          "data": {
            "text/plain": [
              "<matplotlib.image.AxesImage at 0x7fe0c6525ed0>"
            ]
          },
          "metadata": {},
          "execution_count": 5
        },
        {
          "output_type": "display_data",
          "data": {
            "text/plain": [
              "<Figure size 288x288 with 1 Axes>"
            ],
            "image/png": "[encoded data removed]"
          },
          "metadata": {
            "needs_background": "light"
          }
        }
      ]
    },
    {
      "cell_type": "markdown",
      "source": [
        "# ANN Model Creation"
      ],
      "metadata": {
        "id": "NUF39RrRYAis"
      }
    },
    {
      "cell_type": "code",
      "source": [
        "from tensorflow.keras import Sequential\n",
        "from tensorflow.keras.layers import Dense, Flatten, Conv2D, MaxPooling2D"
      ],
      "metadata": {
        "id": "9PTtJhG7AcI0"
      },
      "execution_count": 24,
      "outputs": []
    },
    {
      "cell_type": "code",
      "source": [
        "model=tf.keras.models.Sequential([\n",
        "    tf.keras.layers.Conv2D(32, (3, 3), padding='same', activation='relu'),\n",
        "    tf.keras.layers.Conv2D(64, (3, 3), padding='same',activation='relu'),\n",
        "    tf.keras.layers.MaxPooling2D((2,2),padding='same',strides=2),\n",
        "    tf.keras.layers.Flatten(input_shape=(32,32,3)),\n",
        "    tf.keras.layers.Dense(128,activation='relu'),\n",
        "    tf.keras.layers.Dense(128,activation='relu'),\n",
        "    tf.keras.layers.Dense(10,activation='softmax')\n",
        "])\n",
        "\n",
        "model.compile(\n",
        "    optimizer='adam',\n",
        "    loss='sparse_categorical_crossentropy',\n",
        "    metrics=['accuracy']\n",
        ")"
      ],
      "metadata": {
        "id": "3HAzsOEJYVjU"
      },
      "execution_count": 32,
      "outputs": []
    },
    {
      "cell_type": "markdown",
      "source": [
        "# Train/Fit the Model"
      ],
      "metadata": {
        "id": "wChruJ9laVY5"
      }
    },
    {
      "cell_type": "code",
      "source": [
        "model.fit(x_train, y_train, epochs=7)"
      ],
      "metadata": {
        "colab": {
          "base_uri": "https://localhost:8080/"
        },
        "id": "3dwGE0VEYVon",
        "outputId": "47c8f4f8-f186-4c98-a40f-93f43e81eac4"
      },
      "execution_count": 35,
      "outputs": [
        {
          "output_type": "stream",
          "name": "stdout",
          "text": [
            "Epoch 1/7\n",
            "1563/1563 [==============================] - 223s 143ms/step - loss: 0.2643 - accuracy: 0.9094\n",
            "Epoch 2/7\n",
            "1563/1563 [==============================] - 221s 142ms/step - loss: 0.1797 - accuracy: 0.9377\n",
            "Epoch 3/7\n",
            "1563/1563 [==============================] - 221s 141ms/step - loss: 0.1446 - accuracy: 0.9499\n",
            "Epoch 4/7\n",
            "1563/1563 [==============================] - 220s 141ms/step - loss: 0.1131 - accuracy: 0.9617\n",
            "Epoch 5/7\n",
            "1563/1563 [==============================] - 223s 143ms/step - loss: 0.1028 - accuracy: 0.9652\n",
            "Epoch 6/7\n",
            "1563/1563 [==============================] - 222s 142ms/step - loss: 0.0970 - accuracy: 0.9668\n",
            "Epoch 7/7\n",
            "1563/1563 [==============================] - 222s 142ms/step - loss: 0.0804 - accuracy: 0.9721\n"
          ]
        },
        {
          "output_type": "execute_result",
          "data": {
            "text/plain": [
              "<keras.callbacks.History at 0x7fe0bb426c50>"
            ]
          },
          "metadata": {},
          "execution_count": 35
        }
      ]
    },
    {
      "cell_type": "code",
      "source": [
        "y_pred = model.predict(x_train)"
      ],
      "metadata": {
        "id": "IN_QBjWVYVrZ"
      },
      "execution_count": 36,
      "outputs": []
    },
    {
      "cell_type": "code",
      "source": [
        "y_pred"
      ],
      "metadata": {
        "id": "zEkUMM6vYVuH",
        "colab": {
          "base_uri": "https://localhost:8080/"
        },
        "outputId": "315d094d-5661-45a9-e794-7c23d801b1ef"
      },
      "execution_count": 54,
      "outputs": [
        {
          "output_type": "execute_result",
          "data": {
            "text/plain": [
              "array([[4.4385710e-11, 2.1076496e-12, 1.7288646e-06, ..., 3.1144950e-06,\n",
              "        5.7554140e-13, 4.4372888e-13],\n",
              "       [3.1493832e-20, 1.3250243e-12, 7.2702809e-23, ..., 2.2481227e-25,\n",
              "        8.3898577e-19, 1.0000000e+00],\n",
              "       [1.4514706e-04, 8.7105273e-04, 4.0016596e-07, ..., 7.4486707e-07,\n",
              "        4.4167728e-06, 9.9889791e-01],\n",
              "       ...,\n",
              "       [8.3145301e-04, 9.0473065e-07, 4.8059730e-11, ..., 3.3676201e-10,\n",
              "        6.5110478e-10, 9.9916768e-01],\n",
              "       [1.7544094e-10, 9.9999976e-01, 2.3521640e-21, ..., 5.8293899e-23,\n",
              "        1.5717677e-07, 1.4004613e-07],\n",
              "       [1.4003202e-06, 9.8814386e-01, 1.2187731e-12, ..., 1.9678476e-08,\n",
              "        3.7776586e-05, 1.1816228e-02]], dtype=float32)"
            ]
          },
          "metadata": {},
          "execution_count": 54
        }
      ]
    },
    {
      "cell_type": "code",
      "source": [
        "y_test"
      ],
      "metadata": {
        "id": "mw2F2HK-YVwy",
        "colab": {
          "base_uri": "https://localhost:8080/"
        },
        "outputId": "646a2d60-f079-4e6b-f006-840483398134"
      },
      "execution_count": 55,
      "outputs": [
        {
          "output_type": "execute_result",
          "data": {
            "text/plain": [
              "array([[3],\n",
              "       [8],\n",
              "       [8],\n",
              "       ...,\n",
              "       [5],\n",
              "       [1],\n",
              "       [7]], dtype=uint8)"
            ]
          },
          "metadata": {},
          "execution_count": 55
        }
      ]
    },
    {
      "cell_type": "code",
      "source": [
        "loss, accuracy = model.evaluate(x_test,y_test)"
      ],
      "metadata": {
        "id": "1-YJJqVFYV0m",
        "colab": {
          "base_uri": "https://localhost:8080/"
        },
        "outputId": "0538d393-8a0c-4824-bb92-6f3c6b636c39"
      },
      "execution_count": 56,
      "outputs": [
        {
          "output_type": "stream",
          "name": "stdout",
          "text": [
            "313/313 [==============================] - 11s 37ms/step - loss: 2.1292 - accuracy: 0.6675\n"
          ]
        }
      ]
    },
    {
      "cell_type": "code",
      "source": [
        "print(\"Test accuracy :\",accuracy)"
      ],
      "metadata": {
        "id": "X7n9kbbBYV4H",
        "colab": {
          "base_uri": "https://localhost:8080/"
        },
        "outputId": "1dbee78e-7a1f-4fba-d12e-73b77c98c07c"
      },
      "execution_count": 47,
      "outputs": [
        {
          "output_type": "stream",
          "name": "stdout",
          "text": [
            "Test accuracy : 0.6675000190734863\n"
          ]
        }
      ]
    },
    {
      "cell_type": "code",
      "source": [
        ""
      ],
      "metadata": {
        "id": "tv6_kG_mVM7h"
      },
      "execution_count": null,
      "outputs": []
    }
  ]
}